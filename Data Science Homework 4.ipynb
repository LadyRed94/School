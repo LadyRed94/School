{
 "cells": [
  {
   "cell_type": "code",
   "execution_count": 99,
   "metadata": {},
   "outputs": [],
   "source": [
    "#Alexandra Feely\n",
    "#1)\n",
    "import numpy as np\n",
    "import pandas as pd\n",
    "import matplotlib.pyplot as plt\n",
    "\n",
    "ratings = pd.read_csv('ratings.csv')\n",
    "tags = pd.read_csv('tags.csv')\n",
    "movies = pd.read_csv('movies.csv')"
   ]
  },
  {
   "cell_type": "code",
   "execution_count": 100,
   "metadata": {},
   "outputs": [],
   "source": [
    "#2)\n",
    "ratings=ratings.dropna()\n",
    "tags=tags.dropna()\n",
    "movies=movies.dropna()"
   ]
  },
  {
   "cell_type": "code",
   "execution_count": 101,
   "metadata": {},
   "outputs": [
    {
     "output_type": "stream",
     "name": "stdout",
     "text": "Average star rating: 3.533854451353085\nLowest star rating: 0.5\nHighest star rating: 5.0\nTotal 5 star ratings: 3612474\n"
    }
   ],
   "source": [
    "#3)\n",
    "averageRatings = ratings.rating.mean(0)\n",
    "print(\"Average star rating:\", averageRatings)\n",
    "minRatings = ratings.rating.min(0)\n",
    "print(\"Lowest star rating:\", minRatings)\n",
    "maxRatings = ratings.rating.max(0)\n",
    "print(\"Highest star rating:\", maxRatings)\n",
    "\n",
    "totalFives = pd.value_counts(ratings.rating)[5.0]\n",
    "#totalFives = totalFives[5.0]\n",
    "print(\"Total 5 star ratings:\", totalFives)"
   ]
  },
  {
   "cell_type": "code",
   "execution_count": 102,
   "metadata": {
    "tags": [
     "outputPrepend",
     "outputPrepend",
     "outputPrepend",
     "outputPrepend",
     "outputPrepend",
     "outputPrepend",
     "outputPrepend",
     "outputPrepend",
     "outputPrepend",
     "outputPrepend",
     "outputPrepend",
     "outputPrepend",
     "outputPrepend",
     "outputPrepend",
     "outputPrepend",
     "outputPrepend",
     "outputPrepend",
     "outputPrepend",
     "outputPrepend",
     "outputPrepend",
     "outputPrepend",
     "outputPrepend",
     "outputPrepend",
     "outputPrepend",
     "outputPrepend",
     "outputPrepend",
     "outputPrepend",
     "outputPrepend",
     "outputPrepend",
     "outputPrepend",
     "outputPrepend",
     "outputPrepend",
     "outputPrepend",
     "outputPrepend",
     "outputPrepend",
     "outputPrepend",
     "outputPrepend",
     "outputPrepend",
     "outputPrepend",
     "outputPrepend",
     "outputPrepend"
    ]
   },
   "outputs": [
    {
     "output_type": "stream",
     "name": "stdout",
     "text": "Total number of comedies: 16870\n"
    }
   ],
   "source": [
    "#4)\n",
    "m = movies.genres\n",
    "m = m.str.split(\"|\", expand=False)\n",
    "ComedyCounter = 0\n",
    "for i in range(0,len(m.values)):\n",
    "    for x in range(0,len(m.values[i])):\n",
    "        if m.values[i][x] == 'Comedy':\n",
    "            ComedyCounter += 1\n",
    "print(\"Total number of comedies:\", ComedyCounter)"
   ]
  },
  {
   "cell_type": "code",
   "execution_count": 103,
   "metadata": {},
   "outputs": [
    {
     "output_type": "execute_result",
     "data": {
      "text/plain": "                                                      rating\ntitle                                                       \n\"BLOW THE NIGHT!\" Let's Spend the Night Togethe...  3.000000\n\"Great Performances\" Cats (1998)                    2.896648\n#1 Cheerleader Camp (2010)                          2.111111\n#Captured (2017)                                    3.750000\n#Female Pleasure (2018)                             3.666667\n...                                                      ...\n…And the Fifth Horseman Is Fear (1965)              3.250000\nキサラギ (2007)                                         3.250000\nチェブラーシカ (2010)                                      3.166667\n貞子3D (2012)                                         2.375000\n줄탁동시 (2012)                                         4.000000\n\n[58958 rows x 1 columns]",
      "text/html": "<div>\n<style scoped>\n    .dataframe tbody tr th:only-of-type {\n        vertical-align: middle;\n    }\n\n    .dataframe tbody tr th {\n        vertical-align: top;\n    }\n\n    .dataframe thead th {\n        text-align: right;\n    }\n</style>\n<table border=\"1\" class=\"dataframe\">\n  <thead>\n    <tr style=\"text-align: right;\">\n      <th></th>\n      <th>rating</th>\n    </tr>\n    <tr>\n      <th>title</th>\n      <th></th>\n    </tr>\n  </thead>\n  <tbody>\n    <tr>\n      <th>\"BLOW THE NIGHT!\" Let's Spend the Night Together (1983)</th>\n      <td>3.000000</td>\n    </tr>\n    <tr>\n      <th>\"Great Performances\" Cats (1998)</th>\n      <td>2.896648</td>\n    </tr>\n    <tr>\n      <th>#1 Cheerleader Camp (2010)</th>\n      <td>2.111111</td>\n    </tr>\n    <tr>\n      <th>#Captured (2017)</th>\n      <td>3.750000</td>\n    </tr>\n    <tr>\n      <th>#Female Pleasure (2018)</th>\n      <td>3.666667</td>\n    </tr>\n    <tr>\n      <th>...</th>\n      <td>...</td>\n    </tr>\n    <tr>\n      <th>…And the Fifth Horseman Is Fear (1965)</th>\n      <td>3.250000</td>\n    </tr>\n    <tr>\n      <th>キサラギ (2007)</th>\n      <td>3.250000</td>\n    </tr>\n    <tr>\n      <th>チェブラーシカ (2010)</th>\n      <td>3.166667</td>\n    </tr>\n    <tr>\n      <th>貞子3D (2012)</th>\n      <td>2.375000</td>\n    </tr>\n    <tr>\n      <th>줄탁동시 (2012)</th>\n      <td>4.000000</td>\n    </tr>\n  </tbody>\n</table>\n<p>58958 rows × 1 columns</p>\n</div>"
     },
     "metadata": {},
     "execution_count": 103
    }
   ],
   "source": [
    "#5)\n",
    "combo = pd.merge(movies,ratings,on='movieId')\n",
    "combo = combo[['title','rating']]\n",
    "combo\n",
    "answer = combo.groupby(['title']).mean()\n",
    "answer"
   ]
  },
  {
   "cell_type": "code",
   "execution_count": null,
   "metadata": {},
   "outputs": [],
   "source": []
  }
 ],
 "metadata": {
  "kernelspec": {
   "display_name": "Python 3",
   "language": "python",
   "name": "python3"
  },
  "language_info": {
   "codemirror_mode": {
    "name": "ipython",
    "version": 3
   },
   "file_extension": ".py",
   "mimetype": "text/x-python",
   "name": "python",
   "nbconvert_exporter": "python",
   "pygments_lexer": "ipython3",
   "version": "3.7.6-final"
  }
 },
 "nbformat": 4,
 "nbformat_minor": 4
}