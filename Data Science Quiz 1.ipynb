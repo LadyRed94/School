{
 "cells": [
  {
   "cell_type": "code",
   "execution_count": 8,
   "metadata": {},
   "outputs": [
    {
     "data": {
      "text/plain": [
       "45"
      ]
     },
     "execution_count": 8,
     "metadata": {},
     "output_type": "execute_result"
    }
   ],
   "source": [
    "#Alexandra Feely Quiz 1\n",
    "\n",
    "#1)\n",
    "import numpy as np\n",
    "\n",
    "def func(num1, num2, num3):\n",
    "    if(num1<num2< num3 or num3<num2<num1):\n",
    "        return num2\n",
    "    if(num2<num1< num3 or num3<num1< num2):\n",
    "        return num1\n",
    "    else:\n",
    "        return num3\n",
    "       \n",
    "func(45,22,60)\n",
    "\n",
    "#This code takes in three values and finds the median"
   ]
  },
  {
   "cell_type": "code",
   "execution_count": 47,
   "metadata": {
    "scrolled": true
   },
   "outputs": [
    {
     "name": "stdout",
     "output_type": "stream",
     "text": [
      "[[1, 6, 3], [1, 2, -3], [3, 3, 7]]\n"
     ]
    }
   ],
   "source": [
    "#2)\n",
    "A = [[1,2,3], [4,5,6], [4,5,2]]\n",
    "B = [[2,8,6], [5,7,3], [7,8,9]]\n",
    "C = []\n",
    "for j in range(0,len(A)):\n",
    "    C.append([])\n",
    "    for x in range(0,len(A[j])):\n",
    "        C[j].append(B[j][x]-A[j][x])\n",
    "print(C)\n",
    "Answer = C"
   ]
  },
  {
   "cell_type": "code",
   "execution_count": 69,
   "metadata": {},
   "outputs": [
    {
     "name": "stdout",
     "output_type": "stream",
     "text": [
      "[[[0, 1, 2, 3, 4], [5, 6, 7, 8, 9], [10, 11, 12, 13, 14], [15, 16, 17, 18, 19]], [[20, 21, 22, 23, 24], [25, 26, 27, 28, 29], [30, 31, 32, 33, 34], [35, 36, 37, 38, 39]], [[40, 41, 42, 43, 44], [45, 46, 47, 48, 49], [50, 51, 52, 53, 54], [55, 56, 57, 58, 59]]]\n",
      "\n",
      "[[[ 0  1  2  3  4]\n",
      "  [ 5  6  7  8  9]\n",
      "  [10 11 12 13 14]\n",
      "  [15 16 17 18 19]]\n",
      "\n",
      " [[20 21 22 23 24]\n",
      "  [25 26 27 28 29]\n",
      "  [30 31 32 33 34]\n",
      "  [35 36 37 38 39]]\n",
      "\n",
      " [[40 41 42 43 44]\n",
      "  [45 46 47 48 49]\n",
      "  [50 51 52 53 54]\n",
      "  [55 56 57 58 59]]]\n",
      "\n",
      "Shape is (3, 4, 5)\n"
     ]
    }
   ],
   "source": [
    "import numpy as np\n",
    "\n",
    "#3a)\n",
    "#First Solution\n",
    "#Created the matrix myself then turned it into numpy matrix\n",
    "num = 0\n",
    "Brick = []\n",
    "for x in range (0,3):\n",
    "    Brick.append([])\n",
    "    for y in range (0,4):\n",
    "        Brick[x].append([])\n",
    "        for z in range (0,5):\n",
    "            Brick[x][y].append([])\n",
    "            Brick[x][y][z] = num\n",
    "            num = num+1\n",
    "mBrick = np.array(Brick)            \n",
    "print(Brick)\n",
    "print()\n",
    "print(mBrick)\n",
    "print()\n",
    "print(\"Shape is\",mBrick.shape)\n",
    "#mBrick is a 3D matrix containing the values from 0-59"
   ]
  },
  {
   "cell_type": "code",
   "execution_count": 82,
   "metadata": {
    "scrolled": true
   },
   "outputs": [
    {
     "name": "stdout",
     "output_type": "stream",
     "text": [
      "(3, 4, 5)\n",
      "\n",
      "[[[ 0.  1.  2.  3.  4.]\n",
      "  [ 5.  6.  7.  8.  9.]\n",
      "  [10. 11. 12. 13. 14.]\n",
      "  [15. 16. 17. 18. 19.]]\n",
      "\n",
      " [[20. 21. 22. 23. 24.]\n",
      "  [25. 26. 27. 28. 29.]\n",
      "  [30. 31. 32. 33. 34.]\n",
      "  [35. 36. 37. 38. 39.]]\n",
      "\n",
      " [[40. 41. 42. 43. 44.]\n",
      "  [45. 46. 47. 48. 49.]\n",
      "  [50. 51. 52. 53. 54.]\n",
      "  [55. 56. 57. 58. 59.]]]\n"
     ]
    }
   ],
   "source": [
    "#3a)\n",
    "#Second Solution, I figured there was an easier way to construct the matrix with numpy\n",
    "#Then I looked through the lectures and remembered np.empty()\n",
    "#This solution uses that function and allows the matrix to be vary in dimensions\n",
    "test = np.empty([3,4,5])\n",
    "num1 = 0\n",
    "for x in range (0,len(test)):\n",
    "    for y in range (0,len(test[x])):\n",
    "        for z in range (0,len(test[x][y])):\n",
    "            test[x][y][z] = num1\n",
    "            num1 = num1+1\n",
    "\n",
    "print(test.shape)\n",
    "print()\n",
    "print(test)"
   ]
  },
  {
   "cell_type": "code",
   "execution_count": 97,
   "metadata": {},
   "outputs": [
    {
     "name": "stdout",
     "output_type": "stream",
     "text": [
      "[9. 8. 7. 6. 5. 4. 3. 2. 1. 0.]\n",
      "[8. 6. 4. 2. 0.]\n"
     ]
    }
   ],
   "source": [
    "#3b)\n",
    "#This creates a test array\n",
    "testList = np.array([])\n",
    "\n",
    "for x in range(0,10):\n",
    "    testList = np.append(x,testList)\n",
    "print(testList)\n",
    "\n",
    "#Gives array of only even numbers\n",
    "testList = testList[testList%2==0]\n",
    "print(testList)"
   ]
  },
  {
   "cell_type": "code",
   "execution_count": 129,
   "metadata": {
    "scrolled": true
   },
   "outputs": [
    {
     "name": "stdout",
     "output_type": "stream",
     "text": [
      "[[33. 62. 95. 86. 35.]\n",
      " [ 4. 46.  9. 35. 40.]\n",
      " [ 4. 93. 52. 17. 33.]\n",
      " [ 6.  9. 30. 32. 94.]\n",
      " [29. 58. 88. 33. 65.]]\n",
      "\n",
      "[95. 46. 93. 94. 88.]\n"
     ]
    }
   ],
   "source": [
    "#3c)\n",
    "#populates the matrix\n",
    "tMatrix = np.empty([5,5])\n",
    "for x in range(0,len(tMatrix)):\n",
    "    for y in range(0,len(tMatrix[x])):\n",
    "        tMatrix[x][y] = int(np.random.randint(100))\n",
    "        \n",
    "print(tMatrix)\n",
    "\n",
    "#tMatrix.sort()\n",
    "\n",
    "#Creates array to hold maximums\n",
    "maxs = np.array([])\n",
    "for x in range(0,len(tMatrix)):\n",
    "    maxs = np.append(0, maxs)\n",
    "\n",
    "cmax = tMatrix[0][0]\n",
    "\n",
    "for x in range(0,len(tMatrix)):\n",
    "    cmax = np.amax(tMatrix[x])\n",
    "    maxs[x] = cmax\n",
    "print()\n",
    "print(maxs)\n",
    "\n",
    "#maxs is an array of all the highest values from each row"
   ]
  },
  {
   "cell_type": "code",
   "execution_count": null,
   "metadata": {},
   "outputs": [],
   "source": [
    "#4a)\n",
    "#arr[1:, :2]\n",
    "\n",
    "#4b)\n",
    "#arr[1, 1:]"
   ]
  }
 ],
 "metadata": {
  "kernelspec": {
   "display_name": "Python 3",
   "language": "python",
   "name": "python3"
  },
  "language_info": {
   "codemirror_mode": {
    "name": "ipython",
    "version": 3
   },
   "file_extension": ".py",
   "mimetype": "text/x-python",
   "name": "python",
   "nbconvert_exporter": "python",
   "pygments_lexer": "ipython3",
   "version": "3.7.6"
  }
 },
 "nbformat": 4,
 "nbformat_minor": 4
}
