{
 "cells": [
  {
   "cell_type": "code",
   "execution_count": 7,
   "metadata": {},
   "outputs": [],
   "source": [
    "import numpy as np\n",
    "import pandas as pd"
   ]
  },
  {
   "cell_type": "code",
   "execution_count": 72,
   "metadata": {},
   "outputs": [],
   "source": [
    "#Alexandra Feely Data Science Homework 3\n",
    "\n",
    "# Q2)\n",
    "\n",
    "def createArray(top, inc, row, col):\n",
    "    tlist=[]\n",
    "    x=0\n",
    "    for i in range(0,100):\n",
    "        tlist.append(x)\n",
    "        x=x+inc\n",
    "        if (x>top):\n",
    "            break\n",
    "    tarray = np.array(tlist)\n",
    "    tarray=np.reshape(tarray,(row,col))\n",
    "    return tarray"
   ]
  },
  {
   "cell_type": "code",
   "execution_count": 73,
   "metadata": {},
   "outputs": [
    {
     "name": "stdout",
     "output_type": "stream",
     "text": [
      "     Group1     Group2\n",
      "         C1  C2     C1\n",
      "R1 1      0   2      4\n",
      "   2      6   8     10\n",
      "R2 1     12  14     16\n",
      "   2     18  20     22\n"
     ]
    }
   ],
   "source": [
    "#a)\n",
    "df1 = pd.DataFrame(createArray(22,2,4,3),\n",
    "                   index=[['R1','R1','R2','R2'],['1','2','1','2']],\n",
    "                   columns=[['Group1','Group1','Group2'],['C1','C2','C1']])\n",
    "print(df1)"
   ]
  },
  {
   "cell_type": "code",
   "execution_count": 74,
   "metadata": {},
   "outputs": [
    {
     "name": "stdout",
     "output_type": "stream",
     "text": [
      "       col00  col01  col02  col03  col04\n",
      "row00      0      3      6      9     12\n",
      "row01     15     18     21     24     27\n",
      "row02     30     33     36     39     42\n",
      "row03     45     48     51     54     57\n"
     ]
    }
   ],
   "source": [
    "#B)\n",
    "\n",
    "df2 = pd.DataFrame(createArray(57,3,4,5),\n",
    "                   index=['row00','row01','row02','row03'],\n",
    "                   columns=['col00','col01','col02','col03','col04'])\n",
    "print(df2)"
   ]
  },
  {
   "cell_type": "code",
   "execution_count": 87,
   "metadata": {},
   "outputs": [
    {
     "name": "stdout",
     "output_type": "stream",
     "text": [
      "      A     B     C   D\n",
      "0   0.0   2.0   4.0 NaN\n",
      "1   7.0   9.0  11.0 NaN\n",
      "2  14.0  16.0  18.0 NaN\n",
      "3  21.0  23.0  25.0 NaN\n",
      "4  28.0  30.0  32.0 NaN\n",
      "5  35.0  37.0  39.0 NaN\n",
      "6  42.0  44.0  46.0 NaN\n",
      "7   NaN   NaN   NaN NaN\n",
      "8   NaN   NaN   NaN NaN\n",
      "9   NaN   NaN   NaN NaN\n"
     ]
    }
   ],
   "source": [
    "#c)\n",
    "\n",
    "arr1 = np.reshape(np.array([0,2,4,7,9,11,14,16,18,21,23,25,28,30,32,35,37,39,42,44,46]),(7,3))\n",
    "arr2 = np.empty((10,4))\n",
    "arr2[:] = np.nan\n",
    "arr2[:7,:3] = arr1\n",
    "df3 = pd.DataFrame(arr2,columns=['A','B','C','D'])\n",
    "print(df3)"
   ]
  },
  {
   "cell_type": "code",
   "execution_count": null,
   "metadata": {},
   "outputs": [],
   "source": []
  }
 ],
 "metadata": {
  "kernelspec": {
   "display_name": "Python 3",
   "language": "python",
   "name": "python3"
  },
  "language_info": {
   "codemirror_mode": {
    "name": "ipython",
    "version": 3
   },
   "file_extension": ".py",
   "mimetype": "text/x-python",
   "name": "python",
   "nbconvert_exporter": "python",
   "pygments_lexer": "ipython3",
   "version": "3.7.6"
  }
 },
 "nbformat": 4,
 "nbformat_minor": 4
}
