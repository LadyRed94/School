{
 "cells": [
  {
   "cell_type": "code",
   "execution_count": 136,
   "metadata": {
    "scrolled": true
   },
   "outputs": [
    {
     "name": "stdout",
     "output_type": "stream",
     "text": [
      "e =  9\n",
      "d =  129\n",
      "\n",
      "c =  17\n",
      "c2 =  2\n",
      "\n",
      "YEAH WE DID IT\n",
      "\n",
      "2\n"
     ]
    }
   ],
   "source": [
    "#Part1\n",
    "\n",
    "import math\n",
    "import numpy as np\n",
    "\n",
    "#p = 5\n",
    "#q = 11\n",
    "#n = p*q\n",
    "#k = (p-1) * (q-1)\n",
    "#d = 0\n",
    "\n",
    "#Lists to test for d and e values\n",
    "#testE = []\n",
    "#testD = []\n",
    "\n",
    "#e = 0\n",
    "#m = [2,3,4]\n",
    "#c = 0\n",
    "#c2 = 0\n",
    "\n",
    "#for x in range(0,10):\n",
    "    #testE.append(np.random.randint(10))\n",
    "    \n",
    "#for x in range(0,200):\n",
    "    #testD.append(x)\n",
    "\n",
    "def encrypt(m,p,q):\n",
    "    n = p*q\n",
    "    k = (p-1) * (q-1)\n",
    "    d = 0\n",
    "    e = 0\n",
    "    c = 0\n",
    "    c2 = 0\n",
    "    true = 1\n",
    "    temp = 0\n",
    "    \n",
    "    while true == 1:\n",
    "        #come back to fill in range\n",
    "        temp = np.random.randint(2,999000)\n",
    "        if (math.gcd(temp,k)==1):\n",
    "            e=temp\n",
    "            true = 0\n",
    "    \n",
    "    while true == 0:\n",
    "        #come back to fill in range\n",
    "        temp = np.random.randint(2,999000)\n",
    "        if ((temp * e) % k == 1):\n",
    "            d=temp\n",
    "            true = 1\n",
    "            \n",
    "    #for y in range(0,len(testD)):\n",
    "        #if ((testD[y] * e) % k == 1):\n",
    "            #d = testD[y]\n",
    "            #break\n",
    "\n",
    "    print(\"e = \",e)\n",
    "    print(\"d = \",d)\n",
    "    print()\n",
    "\n",
    "    #c = me % n and then compute cd % n\n",
    "    #tests for c==m\n",
    "    c = (m**e)%n\n",
    "    print(\"c = \",c)\n",
    "\n",
    "    c2 = (c**d)%n\n",
    "    print(\"c2 = \",c2)\n",
    "    if(m==c2):\n",
    "        print()\n",
    "        print(\"YEAH WE DID IT\")\n",
    "        print()\n",
    "        return c2\n",
    "    else:\n",
    "        return 0\n",
    "            \n",
    "print(encrypt(2,5,11))"
   ]
  },
  {
   "cell_type": "code",
   "execution_count": 142,
   "metadata": {},
   "outputs": [
    {
     "name": "stdout",
     "output_type": "stream",
     "text": [
      "[430259, 134597]\n"
     ]
    },
    {
     "ename": "KeyboardInterrupt",
     "evalue": "",
     "output_type": "error",
     "traceback": [
      "\u001b[1;31m---------------------------------------------------------------------------\u001b[0m",
      "\u001b[1;31mKeyboardInterrupt\u001b[0m                         Traceback (most recent call last)",
      "\u001b[1;32m<ipython-input-142-5dde00c8c763>\u001b[0m in \u001b[0;36m<module>\u001b[1;34m\u001b[0m\n\u001b[0;32m     20\u001b[0m \u001b[0mstartnums\u001b[0m \u001b[1;33m=\u001b[0m \u001b[0mfindPrime\u001b[0m\u001b[1;33m(\u001b[0m\u001b[1;33m)\u001b[0m\u001b[1;33m\u001b[0m\u001b[1;33m\u001b[0m\u001b[0m\n\u001b[0;32m     21\u001b[0m \u001b[0mprint\u001b[0m\u001b[1;33m(\u001b[0m\u001b[0mstartnums\u001b[0m\u001b[1;33m)\u001b[0m\u001b[1;33m\u001b[0m\u001b[1;33m\u001b[0m\u001b[0m\n\u001b[1;32m---> 22\u001b[1;33m \u001b[0mencrypt\u001b[0m\u001b[1;33m(\u001b[0m\u001b[1;36m2\u001b[0m\u001b[1;33m,\u001b[0m\u001b[0mstartnums\u001b[0m\u001b[1;33m[\u001b[0m\u001b[1;36m0\u001b[0m\u001b[1;33m]\u001b[0m\u001b[1;33m,\u001b[0m\u001b[0mstartnums\u001b[0m\u001b[1;33m[\u001b[0m\u001b[1;36m1\u001b[0m\u001b[1;33m]\u001b[0m\u001b[1;33m)\u001b[0m\u001b[1;33m\u001b[0m\u001b[1;33m\u001b[0m\u001b[0m\n\u001b[0m",
      "\u001b[1;32m<ipython-input-136-add2fe856829>\u001b[0m in \u001b[0;36mencrypt\u001b[1;34m(m, p, q)\u001b[0m\n\u001b[0;32m     45\u001b[0m         \u001b[1;31m#come back to fill in range\u001b[0m\u001b[1;33m\u001b[0m\u001b[1;33m\u001b[0m\u001b[1;33m\u001b[0m\u001b[0m\n\u001b[0;32m     46\u001b[0m         \u001b[0mtemp\u001b[0m \u001b[1;33m=\u001b[0m \u001b[0mnp\u001b[0m\u001b[1;33m.\u001b[0m\u001b[0mrandom\u001b[0m\u001b[1;33m.\u001b[0m\u001b[0mrandint\u001b[0m\u001b[1;33m(\u001b[0m\u001b[1;36m200\u001b[0m\u001b[1;33m)\u001b[0m\u001b[1;33m\u001b[0m\u001b[1;33m\u001b[0m\u001b[0m\n\u001b[1;32m---> 47\u001b[1;33m         \u001b[1;32mif\u001b[0m \u001b[1;33m(\u001b[0m\u001b[1;33m(\u001b[0m\u001b[0mtemp\u001b[0m \u001b[1;33m*\u001b[0m \u001b[0me\u001b[0m\u001b[1;33m)\u001b[0m \u001b[1;33m%\u001b[0m \u001b[0mk\u001b[0m \u001b[1;33m==\u001b[0m \u001b[1;36m1\u001b[0m\u001b[1;33m)\u001b[0m\u001b[1;33m:\u001b[0m\u001b[1;33m\u001b[0m\u001b[1;33m\u001b[0m\u001b[0m\n\u001b[0m\u001b[0;32m     48\u001b[0m             \u001b[0md\u001b[0m\u001b[1;33m=\u001b[0m\u001b[0mtemp\u001b[0m\u001b[1;33m\u001b[0m\u001b[1;33m\u001b[0m\u001b[0m\n\u001b[0;32m     49\u001b[0m             \u001b[0mtrue\u001b[0m \u001b[1;33m=\u001b[0m \u001b[1;36m1\u001b[0m\u001b[1;33m\u001b[0m\u001b[1;33m\u001b[0m\u001b[0m\n",
      "\u001b[1;31mKeyboardInterrupt\u001b[0m: "
     ]
    }
   ],
   "source": [
    "#Part 2\n",
    "\n",
    "#Program to check if a number is prime or not\n",
    "def checkPrime(num):\n",
    "    for i in range(2,num):\n",
    "        if (num % i) == 0:\n",
    "            num = 0;\n",
    "            break    \n",
    "    return num\n",
    "\n",
    "#program to generate a large prime number\n",
    "def findPrime():\n",
    "    primes = []\n",
    "    while len(primes) != 2:\n",
    "        randy=np.random.randint(100000,999000)\n",
    "        if(checkPrime(randy)!=0):\n",
    "                primes.append(randy)\n",
    "    return primes\n",
    "\n",
    "startnums = findPrime()\n",
    "print(startnums)\n",
    "encrypt(2,startnums[0],startnums[1])"
   ]
  },
  {
   "cell_type": "code",
   "execution_count": null,
   "metadata": {},
   "outputs": [],
   "source": []
  }
 ],
 "metadata": {
  "kernelspec": {
   "display_name": "Python 3",
   "language": "python",
   "name": "python3"
  },
  "language_info": {
   "codemirror_mode": {
    "name": "ipython",
    "version": 3
   },
   "file_extension": ".py",
   "mimetype": "text/x-python",
   "name": "python",
   "nbconvert_exporter": "python",
   "pygments_lexer": "ipython3",
   "version": "3.7.6"
  }
 },
 "nbformat": 4,
 "nbformat_minor": 4
}
