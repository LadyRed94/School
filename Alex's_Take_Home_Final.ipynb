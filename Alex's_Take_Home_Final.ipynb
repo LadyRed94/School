{
 "cells": [
  {
   "cell_type": "code",
   "execution_count": null,
   "metadata": {},
   "outputs": [],
   "source": [
    "# Alexandra Feely Take Home Final\n",
    "import numpy as np\n",
    "import pandas as pd\n",
    "import matplotlib.pyplot as plt\n",
    "from datetime import datetime\n",
    "import glob"
   ]
  },
  {
   "cell_type": "code",
   "execution_count": null,
   "metadata": {},
   "outputs": [],
   "source": [
    "World = pd.read_csv('https://raw.githubusercontent.com/CSSEGISandData/COVID-19/master/csse_covid_19_data/csse_covid_19_time_series/time_series_covid19_confirmed_global.csv')"
   ]
  },
  {
   "cell_type": "code",
   "execution_count": null,
   "metadata": {},
   "outputs": [],
   "source": [
    "#1 Answer)\n",
    "ModWorld = World.sort_values(by=World.columns[-1],ascending=False)\n",
    "tograph1 = ModWorld.iloc[:9,-1:]\n",
    "tograph2 = ModWorld.iloc[:9,1:2]\n",
    "ToGraph = pd.concat([tograph2,tograph1], axis=1)\n",
    "ToGraph = ToGraph.groupby('Country/Region').sum()\n",
    "ToGraph.columns = ['Cases to Date']\n",
    "ToGraph = ToGraph.sort_values(by=ToGraph.columns[-1],ascending=False)\n",
    "ToGraph.plot.bar(figsize = (30,10),\n",
    "    title = 'Eight Countries with the most Cases of Covid-19')"
   ]
  },
  {
   "cell_type": "code",
   "execution_count": null,
   "metadata": {},
   "outputs": [],
   "source": [
    "#2a Answer)\n",
    "baby_names = pd.read_csv('names/yob2018.txt', header = None, names = ['Name', 'Gender', 'Occurrences'])\n",
    "baby_names = baby_names.sort_values('Occurrences', ascending = False)\n",
    "total_names = baby_names['Occurrences'].sum()\n",
    "top100 = baby_names.iloc[:100,:]\n",
    "top100 = top100.reset_index()\n",
    "toPrint = round((top100['Occurrences'].sum()/total_names)*100, 2)\n",
    "print('The 100 most used names made up '+str(toPrint)+' percent of the total number of naming occurrences in 2018.')"
   ]
  },
  {
   "cell_type": "code",
   "execution_count": null,
   "metadata": {},
   "outputs": [],
   "source": [
    "#2b\n",
    "def getPercent(name,year):\n",
    "    Years = []\n",
    "    Percent = []\n",
    "    for i in range(1880,year+1):\n",
    "        Years.append(i)\n",
    "        df = pd.read_csv('names/yob'+str(i)+'.txt', header = None, names = ['Name', 'Gender', 'Occurrences'])\n",
    "        total = df['Occurrences'].sum()\n",
    "        row = df.loc[df['Name'] == name]\n",
    "        nameYearTotal = row['Occurrences'].sum()\n",
    "        Percent.append(round((nameYearTotal/total)*100, 2))\n",
    "    ToChart = pd.DataFrame(index = Years,columns=[str(name)])\n",
    "    ToChart[str(name)] = Percent\n",
    "    return ToChart"
   ]
  },
  {
   "cell_type": "code",
   "execution_count": null,
   "metadata": {},
   "outputs": [],
   "source": [
    "def PlotName(name, year):\n",
    "    ToPlot = getPercent(name,year)\n",
    "    Graph = ToPlot.plot(figsize = (20,5),\n",
    "    title = str(name)+\"'s Popularity\")\n",
    "    Graph.set_xlabel(\"Year\")\n",
    "    Graph.set_ylabel(\"Percent of Total Baby Names Given\")"
   ]
  },
  {
   "cell_type": "code",
   "execution_count": null,
   "metadata": {},
   "outputs": [],
   "source": [
    "#2b Answer)\n",
    "# My full name\n",
    "PlotName('Alexandra',2018)\n",
    "# My name shortened \n",
    "PlotName('Alex',2018)"
   ]
  }
 ],
 "metadata": {
  "language_info": {
   "codemirror_mode": {
    "name": "ipython",
    "version": 3
   },
   "file_extension": ".py",
   "mimetype": "text/x-python",
   "name": "python",
   "nbconvert_exporter": "python",
   "pygments_lexer": "ipython3",
   "version": "3.7.6-final"
  },
  "orig_nbformat": 2,
  "kernelspec": {
   "name": "python3",
   "display_name": "Python 3"
  }
 },
 "nbformat": 4,
 "nbformat_minor": 2
}