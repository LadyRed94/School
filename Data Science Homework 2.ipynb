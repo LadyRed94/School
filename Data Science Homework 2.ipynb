{
 "cells": [
  {
   "cell_type": "code",
   "execution_count": 76,
   "metadata": {},
   "outputs": [
    {
     "name": "stdout",
     "output_type": "stream",
     "text": [
      "[[0 1 0 1 0 1 0 1]\n",
      " [1 0 1 0 1 0 1 0]\n",
      " [0 1 0 1 0 1 0 1]\n",
      " [1 0 1 0 1 0 1 0]\n",
      " [0 1 0 1 0 1 0 1]\n",
      " [1 0 1 0 1 0 1 0]\n",
      " [0 1 0 1 0 1 0 1]\n",
      " [1 0 1 0 1 0 1 0]]\n"
     ]
    }
   ],
   "source": [
    "import numpy as np\n",
    "import pandas as pd\n",
    "\n",
    "#Question 1 function\n",
    "def makeBinMat(rsize,csize):\n",
    "    matrix = np.ones([rsize,csize],dtype=int)\n",
    "    #i=row\n",
    "    for i in range(len(matrix)):\n",
    "        #j=column\n",
    "        for j in range(len(matrix[i])):\n",
    "            if (i+j) % 2 == 0:\n",
    "                matrix[i][j]=0; \n",
    "    return matrix\n",
    "\n",
    "#Makes call to Q1 function and prints answer\n",
    "print(makeBinMat(8,8))"
   ]
  },
  {
   "cell_type": "code",
   "execution_count": 93,
   "metadata": {},
   "outputs": [
    {
     "name": "stdout",
     "output_type": "stream",
     "text": [
      "-0.29385210811481394\n",
      "\n",
      "             0         1         2         3\n",
      "mean  0.116567 -0.357364 -0.331031 -0.485536\n",
      "std   0.609238  0.814911  0.654504  1.389615\n",
      "min  -0.699554 -1.381330 -1.254829 -2.011619\n",
      "75%   0.729081  0.081469  0.264343 -0.104879\n",
      "max   0.869983  0.914398  0.552460  2.173560\n"
     ]
    }
   ],
   "source": [
    "#Question 2\n",
    "\n",
    "#2a)\n",
    "#Creates Global matrix to use\n",
    "Gmatrix = np.random.randn(6, 4)\n",
    "\n",
    "#Gets 12th biggest element of matrix\n",
    "#takes any matrix of at least 12 elements\n",
    "def get12(matrix):\n",
    "    \n",
    "    if (len(matrix)*len(matrix[0]))<12:\n",
    "        print(\"Error: Matrix not large enough\")\n",
    "        return\n",
    "    np.sort(matrix)\n",
    "    tracked = []\n",
    "    for i in range(len(matrix)):\n",
    "        for j in range(len(matrix[i])):\n",
    "            tracked.append(matrix[i][j])\n",
    "    tracked.sort()\n",
    "    return tracked[(len(tracked)-12)]\n",
    "\n",
    "#Prints answer to Question 2a)\n",
    "print(get12(Gmatrix))\n",
    "print()\n",
    "\n",
    "#2b)\n",
    "\n",
    "def makeTable(matrix):\n",
    "\n",
    "    mean = matrix.mean(axis=0)\n",
    "    std = matrix.std(axis=0)\n",
    "    small = matrix.min(axis=0)\n",
    "    sf = np.percentile(matrix,75,axis=0)\n",
    "    big = matrix.max(axis=0)\n",
    "    holder = np.array([mean, std, small, sf, big])\n",
    "    #holder = {\"mean\":mean, \"std\":std, \"min\":small, \"75%\":sf, \"max\":big}\n",
    "    df = pd.DataFrame(holder, index = [\"mean\", \"std\", \"min\", \"75%\", \"max\"])\n",
    "    print(df)\n",
    "    \n",
    "#Prints answer to 2b)    \n",
    "makeTable(Gmatrix)"
   ]
  }
 ],
 "metadata": {
  "kernelspec": {
   "display_name": "Python 3",
   "language": "python",
   "name": "python3"
  },
  "language_info": {
   "codemirror_mode": {
    "name": "ipython",
    "version": 3
   },
   "file_extension": ".py",
   "mimetype": "text/x-python",
   "name": "python",
   "nbconvert_exporter": "python",
   "pygments_lexer": "ipython3",
   "version": "3.7.6"
  }
 },
 "nbformat": 4,
 "nbformat_minor": 4
}
