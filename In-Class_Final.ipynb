{
 "cells": [
  {
   "cell_type": "code",
   "execution_count": null,
   "metadata": {},
   "outputs": [],
   "source": [
    "#ALexandra Feely\n",
    "#Final Exam \n",
    "#In-Class Portion\n",
    "import numpy as np\n",
    "import pandas as pd\n",
    "import matplotlib.pyplot as plt\n",
    "from datetime import datetime"
   ]
  },
  {
   "cell_type": "code",
   "execution_count": null,
   "metadata": {},
   "outputs": [],
   "source": [
    "#1)\n",
    "#1 Answer)\n",
    "#Throughout the quarter we primarily used the randn() function in numpy\n",
    "#Using the function looks something like this: numpy.random.randn(number 1, number 2)\n",
    "#This creates an array of random values between -1 and 1.\n",
    "#The array size is such the: number of rows = number 1, number of columns = number 2\n",
    "#So numpy.random.randn(2,3) would creat a 2 by the matrix\n",
    "#If done with only \"number1\" it creats a 1D array of length number 1"
   ]
  },
  {
   "cell_type": "code",
   "execution_count": null,
   "metadata": {},
   "outputs": [],
   "source": [
    "#2)\n",
    "dates = pd.date_range('20200101', periods=10)\n",
    "df1 = pd.DataFrame(np.random.randn(10, 8), index=dates, columns=list('ABCDEFGH'))\n",
    "df1"
   ]
  },
  {
   "cell_type": "code",
   "execution_count": null,
   "metadata": {},
   "outputs": [],
   "source": [
    "#2a)\n",
    "#returns three rows with the highest value in a column\n",
    "def MaxColumn(matrix,colName):\n",
    "    top3=[]\n",
    "    for i in range(0,len(matrix)):\n",
    "        top3.append(matrix[colName][i])\n",
    "    top3.sort(reverse=True)\n",
    "    top3[3:] = []\n",
    "    Top3Return = pd.DataFrame(matrix.loc[matrix[colName] == top3[0]])\n",
    "    Top3Return = pd.concat([Top3Return, matrix.loc[matrix[colName] == top3[1]]])\n",
    "    Top3Return = pd.concat([Top3Return, matrix.loc[matrix[colName] == top3[2]]])\n",
    "    return Top3Return"
   ]
  },
  {
   "cell_type": "code",
   "execution_count": null,
   "metadata": {},
   "outputs": [],
   "source": [
    "#2a Answer)\n",
    "MaxColumn(df1,'A')"
   ]
  },
  {
   "cell_type": "code",
   "execution_count": null,
   "metadata": {},
   "outputs": [],
   "source": [
    "#2b)\n",
    "#gets rows whose average is above the specified amount and between 2 dates\n",
    "def dateMean(matrix,mean,date1,date2):\n",
    "    toDisplay=[]\n",
    "    for i in range(0,len(matrix)):\n",
    "        if matrix.index[i]<date1 or matrix.index[i]>date2:\n",
    "            continue\n",
    "        elif matrix.iloc[i].mean()>mean:\n",
    "            toDisplay.append(i)\n",
    "    return df1.take(toDisplay)"
   ]
  },
  {
   "cell_type": "code",
   "execution_count": null,
   "metadata": {},
   "outputs": [],
   "source": [
    "#2b Answer)\n",
    "dateMean(df1,0,datetime(2020,1,2),datetime(2020,1,8))"
   ]
  },
  {
   "cell_type": "code",
   "execution_count": null,
   "metadata": {},
   "outputs": [],
   "source": [
    "#2c) *Explain the output of \"df1.abs().apply(lambda x: x.max() - x.min(), axis=1)\"\n",
    "df1.abs().apply(lambda x: x.max() - x.min(), axis=1)\n",
    "\n",
    "#2c Answer)\n",
    "#This takes the absolute value of the maximum and subtacts the absolute value of the minimum of each row\n",
    "#it returns the results in a Series"
   ]
  },
  {
   "cell_type": "code",
   "execution_count": null,
   "metadata": {},
   "outputs": [],
   "source": [
    "#3)\n",
    "df2 = pd.DataFrame({\"A\": [\"foo\", \"foo\", \"foo\", \"foo\", \"foo\", \"bar\", \"bar\", \"bar\", \"bar\"],\n",
    "\"B\": [\"one\", \"one\", \"one\", \"two\", \"two\", \"one\", \"one\", \"two\", \"two\"],\n",
    "\"C\": [\"small\", \"large\", \"large\", \"small\", \"small\", \"large\", \"small\", \"small\", \"large\"],\n",
    "\"D\": [1, 2, 2, 3, 3, 4, 5, 6, 7], \"E\": [2, 4, 5, 5, 6, 6, 8, 9, 9]})\n",
    "df2"
   ]
  },
  {
   "cell_type": "code",
   "execution_count": null,
   "metadata": {},
   "outputs": [],
   "source": [
    "#3 Answer)\n",
    "#This input pivots the Dataframe df2\n",
    "#it uses the values in columns 'A' and 'B' as a multilevel index\n",
    "#it uses the values in column 'C' as the new columns\n",
    "#it takes the values of column 'D' and populates the dataframe with them\n",
    "pd.pivot_table(df2, values='D', index=['A', 'B'], columns=['C'])"
   ]
  },
  {
   "cell_type": "code",
   "execution_count": null,
   "metadata": {},
   "outputs": [],
   "source": [
    "#4)\n",
    "#What does the following code try to accomplish?\n",
    "df3 = pd.DataFrame(np.random.randn(2000, 3), index=pd.date_range('1/1/2000', periods=2000), columns=['A', 'B', 'C'])\n",
    "df3.cumsum().plot()\n",
    "df3"
   ]
  },
  {
   "cell_type": "code",
   "execution_count": null,
   "metadata": {},
   "outputs": [],
   "source": [
    "#4 Answer:\n",
    "#This code creates a Dataframe to hold information for 2000 sequential dates\n",
    "#starting from January 1, 2000 which it uses as indexes in athe dataframe. It \n",
    "#keeps track of three datapoints for each day in three columns,\"A\",\"B\", and \"C\".\n",
    "#It initially generates data using an array with 2000 rows and 3 columns\n",
    "#filled with random numbers between -1 and 1. It then takes the cumlutive sum\n",
    "#of each column and plots each one on a line graph."
   ]
  }
 ],
 "metadata": {
  "language_info": {
   "codemirror_mode": {
    "name": "ipython",
    "version": 3
   },
   "file_extension": ".py",
   "mimetype": "text/x-python",
   "name": "python",
   "nbconvert_exporter": "python",
   "pygments_lexer": "ipython3",
   "version": "3.7.6-final"
  },
  "orig_nbformat": 2,
  "kernelspec": {
   "name": "python3",
   "display_name": "Python 3"
  }
 },
 "nbformat": 4,
 "nbformat_minor": 2
}