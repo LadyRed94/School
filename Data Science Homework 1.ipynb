{
 "cells": [
  {
   "cell_type": "code",
   "execution_count": 10,
   "metadata": {},
   "outputs": [
    {
     "name": "stdout",
     "output_type": "stream",
     "text": [
      "1\n",
      "8\n",
      "27\n",
      "64\n",
      "125\n",
      "216\n",
      "343\n",
      "512\n",
      "729\n",
      "1000\n",
      "[1, 8, 27, 64, 125, 216, 343, 512, 729, 1000]\n"
     ]
    }
   ],
   "source": [
    "cube = [1,2,3,4,5,6,7,8,9,10]\n",
    "for x in range(0, 10):\n",
    "    cube[x] = cube[x]**3\n",
    "    print(cube[x])\n",
    "print(cube)"
   ]
  },
  {
   "cell_type": "code",
   "execution_count": 14,
   "metadata": {},
   "outputs": [
    {
     "name": "stdout",
     "output_type": "stream",
     "text": [
      "[1, 8, 27, 64, 125, 216, 343, 512, 729, 1000]\n"
     ]
    }
   ],
   "source": [
    "cube = []\n",
    "for x in range(1, 11):\n",
    "    cube.append(x**3)\n",
    "print(cube)"
   ]
  },
  {
   "cell_type": "code",
   "execution_count": 6,
   "metadata": {},
   "outputs": [
    {
     "name": "stdout",
     "output_type": "stream",
     "text": [
      "[[1, 3, 5], [2, 4, 6]]\n"
     ]
    }
   ],
   "source": [
    "import numpy as np\n",
    "A = [[1, 2],     [3 ,4],     [5 ,6]]\n",
    "result = [[0,0,0], [0,0,0]] \n",
    "\n",
    "for x in range(0, len(A)):\n",
    "    for i,y in enumerate(A[x]):\n",
    "        result[i][x] = y\n",
    "#A = np.transpose(A)\n",
    "print(result)       "
   ]
  },
  {
   "cell_type": "code",
   "execution_count": 37,
   "metadata": {},
   "outputs": [
    {
     "name": "stdout",
     "output_type": "stream",
     "text": [
      "What is your age? 100\n",
      "Admission is $20\n"
     ]
    }
   ],
   "source": [
    "age = input(\"What is your age? \")\n",
    "age = int(age)\n",
    "if age<4:\n",
    "    print(\"Admission is free\")\n",
    "elif 4<=age<18:\n",
    "    print(\"Admission is $25\")\n",
    "elif 18<=age<65:\n",
    "    print(\"Admission is $40\")\n",
    "elif age>=65:\n",
    "    print(\"Admission is $20\")\n",
    "else :\n",
    "    print(\"You must not be alive!!!\")"
   ]
  }
 ],
 "metadata": {
  "kernelspec": {
   "display_name": "Python 3",
   "language": "python",
   "name": "python3"
  },
  "language_info": {
   "codemirror_mode": {
    "name": "ipython",
    "version": 3
   },
   "file_extension": ".py",
   "mimetype": "text/x-python",
   "name": "python",
   "nbconvert_exporter": "python",
   "pygments_lexer": "ipython3",
   "version": "3.7.6"
  }
 },
 "nbformat": 4,
 "nbformat_minor": 4
}
